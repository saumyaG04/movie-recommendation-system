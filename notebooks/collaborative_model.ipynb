{
 "cells": [
  {
   "cell_type": "code",
   "execution_count": 1,
   "metadata": {},
   "outputs": [],
   "source": [
    "import pandas as pd\n",
    "from scipy.sparse import csr_matrix\n",
    "from sklearn.metrics.pairwise import cosine_similarity"
   ]
  },
  {
   "cell_type": "code",
   "execution_count": 2,
   "metadata": {},
   "outputs": [],
   "source": [
    "# Load the cleaned data\n",
    "data = pd.read_csv(r\"C:\\Users\\saumy\\OneDrive\\Documents\\Python Projects\\portfolio\\movie recommendation system\\notebooks\\data\\cleaned_data.csv\")"
   ]
  },
  {
   "cell_type": "code",
   "execution_count": 3,
   "metadata": {},
   "outputs": [],
   "source": [
    "# Create a pivot table for user-item interaction\n",
    "user_item_matrix = data.pivot_table(index=\"user_id\", columns=\"title\", values=\"rating\")"
   ]
  },
  {
   "cell_type": "code",
   "execution_count": 4,
   "metadata": {},
   "outputs": [],
   "source": [
    "# Fill NaN values with 0 (or use mean-centering if preferred)\n",
    "user_item_matrix = user_item_matrix.fillna(0)"
   ]
  },
  {
   "cell_type": "code",
   "execution_count": 5,
   "metadata": {},
   "outputs": [],
   "source": [
    "# Convert the matrix to a sparse format\n",
    "user_item_sparse = csr_matrix(user_item_matrix.values)"
   ]
  },
  {
   "cell_type": "code",
   "execution_count": 6,
   "metadata": {},
   "outputs": [],
   "source": [
    "# Compute cosine similarity between users\n",
    "user_similarity = cosine_similarity(user_item_sparse)"
   ]
  },
  {
   "cell_type": "code",
   "execution_count": 7,
   "metadata": {},
   "outputs": [],
   "source": [
    "# Create a DataFrame for similarity\n",
    "user_similarity_df = pd.DataFrame(user_similarity, index=user_item_matrix.index, columns=user_item_matrix.index)"
   ]
  },
  {
   "cell_type": "code",
   "execution_count": 8,
   "metadata": {},
   "outputs": [],
   "source": [
    "# Recommendation function\n",
    "def recommend_movies_cf(user_id, user_item_matrix, user_similarity_df, n_recommendations=10):\n",
    "    \"\"\"\n",
    "    Recommend movies for a user based on collaborative filtering.\n",
    "\n",
    "    Args:\n",
    "        user_id (int): ID of the user for whom recommendations are needed.\n",
    "        user_item_matrix (pd.DataFrame): User-item interaction matrix.\n",
    "        user_similarity_df (pd.DataFrame): User similarity DataFrame.\n",
    "        n_recommendations (int): Number of movie recommendations.\n",
    "\n",
    "    Returns:\n",
    "        list: List of recommended movie titles.\n",
    "    \"\"\"\n",
    "    # Get the similarity scores for the given user\n",
    "    sim_scores = user_similarity_df[user_id]\n",
    "\n",
    "    # Multiply the similarity scores with the user-item matrix\n",
    "    weighted_ratings = user_item_matrix.T.dot(sim_scores).div(sim_scores.sum())\n",
    "\n",
    "    # Get the movies the user has already rated\n",
    "    rated_movies = user_item_matrix.loc[user_id]\n",
    "    rated_movies = rated_movies[rated_movies > 0].index.tolist()\n",
    "\n",
    "    # Exclude already rated movies\n",
    "    recommendations = weighted_ratings[~weighted_ratings.index.isin(rated_movies)]\n",
    "\n",
    "    # Return the top N recommendations\n",
    "    return recommendations.sort_values(ascending=False).head(n_recommendations).index.tolist()"
   ]
  },
  {
   "cell_type": "code",
   "execution_count": 10,
   "metadata": {},
   "outputs": [
    {
     "name": "stdout",
     "output_type": "stream",
     "text": [
      "Recommended movies for User 1:\n",
      "['Shawshank Redemption, The (1994)', 'Pulp Fiction (1994)', 'Matrix, The (1999)', 'Godfather, The (1972)', 'Raiders of the Lost Ark (Indiana Jones and the Raiders of the Lost Ark) (1981)', 'Usual Suspects, The (1995)', 'American Beauty (1999)', 'Fight Club (1999)', 'Terminator 2: Judgment Day (1991)', 'Jurassic Park (1993)']\n"
     ]
    }
   ],
   "source": [
    "# Test the recommendation function\n",
    "user_id = 1  # Replace with a valid user ID from your dataset\n",
    "recommendations = recommend_movies_cf(user_id, user_item_matrix, user_similarity_df)\n",
    "print(f\"Recommended movies for User {user_id}:\\n{recommendations}\")\n"
   ]
  }
 ],
 "metadata": {
  "kernelspec": {
   "display_name": ".venv",
   "language": "python",
   "name": "python3"
  },
  "language_info": {
   "codemirror_mode": {
    "name": "ipython",
    "version": 3
   },
   "file_extension": ".py",
   "mimetype": "text/x-python",
   "name": "python",
   "nbconvert_exporter": "python",
   "pygments_lexer": "ipython3",
   "version": "3.12.4"
  }
 },
 "nbformat": 4,
 "nbformat_minor": 2
}
